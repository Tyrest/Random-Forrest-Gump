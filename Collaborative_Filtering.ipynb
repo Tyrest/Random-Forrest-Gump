{
  "nbformat": 4,
  "nbformat_minor": 0,
  "metadata": {
    "colab": {
      "provenance": []
    },
    "kernelspec": {
      "name": "python3",
      "display_name": "Python 3"
    },
    "language_info": {
      "name": "python"
    }
  },
  "cells": [
    {
      "cell_type": "code",
      "execution_count": 1,
      "metadata": {
        "colab": {
          "base_uri": "https://localhost:8080/"
        },
        "id": "IWlFLALMlByO",
        "outputId": "717caffd-6e99-4461-bdb0-3db84a211ae4"
      },
      "outputs": [
        {
          "output_type": "stream",
          "name": "stdout",
          "text": [
            "Collecting scikit-surprise\n",
            "  Downloading scikit_surprise-1.1.4.tar.gz (154 kB)\n",
            "\u001b[?25l     \u001b[90m━━━━━━━━━━━━━━━━━━━━━━━━━━━━━━━━━━━━━━━━\u001b[0m \u001b[32m0.0/154.4 kB\u001b[0m \u001b[31m?\u001b[0m eta \u001b[36m-:--:--\u001b[0m\r\u001b[2K     \u001b[91m━━━━━━━━━━━━━━━━━━━━━━━━━━━━━\u001b[0m\u001b[90m╺\u001b[0m\u001b[90m━━━━━━━━━━\u001b[0m \u001b[32m112.6/154.4 kB\u001b[0m \u001b[31m3.1 MB/s\u001b[0m eta \u001b[36m0:00:01\u001b[0m\r\u001b[2K     \u001b[90m━━━━━━━━━━━━━━━━━━━━━━━━━━━━━━━━━━━━━━━━\u001b[0m \u001b[32m154.4/154.4 kB\u001b[0m \u001b[31m2.4 MB/s\u001b[0m eta \u001b[36m0:00:00\u001b[0m\n",
            "\u001b[?25h  Installing build dependencies ... \u001b[?25l\u001b[?25hdone\n",
            "  Getting requirements to build wheel ... \u001b[?25l\u001b[?25hdone\n",
            "  Preparing metadata (pyproject.toml) ... \u001b[?25l\u001b[?25hdone\n",
            "Requirement already satisfied: joblib>=1.2.0 in /usr/local/lib/python3.11/dist-packages (from scikit-surprise) (1.4.2)\n",
            "Requirement already satisfied: numpy>=1.19.5 in /usr/local/lib/python3.11/dist-packages (from scikit-surprise) (1.26.4)\n",
            "Requirement already satisfied: scipy>=1.6.0 in /usr/local/lib/python3.11/dist-packages (from scikit-surprise) (1.13.1)\n",
            "Building wheels for collected packages: scikit-surprise\n",
            "  Building wheel for scikit-surprise (pyproject.toml) ... \u001b[?25l\u001b[?25hdone\n",
            "  Created wheel for scikit-surprise: filename=scikit_surprise-1.1.4-cp311-cp311-linux_x86_64.whl size=2505177 sha256=551e9e4a6cd92a3105b8254c28e333baef199401280d8c77875d0f712dcf2519\n",
            "  Stored in directory: /root/.cache/pip/wheels/2a/8f/6e/7e2899163e2d85d8266daab4aa1cdabec7a6c56f83c015b5af\n",
            "Successfully built scikit-surprise\n",
            "Installing collected packages: scikit-surprise\n",
            "Successfully installed scikit-surprise-1.1.4\n"
          ]
        }
      ],
      "source": [
        "%pip install scikit-surprise\n",
        "import re\n",
        "import pandas as pd\n",
        "from surprise import Dataset, Reader, KNNWithMeans, accuracy\n",
        "from surprise.model_selection import train_test_split\n",
        "import json\n",
        "\n"
      ]
    },
    {
      "cell_type": "code",
      "source": [
        "from google.colab import drive\n",
        "drive.mount('/content/drive')"
      ],
      "metadata": {
        "colab": {
          "base_uri": "https://localhost:8080/"
        },
        "id": "H05bfG2jmhLx",
        "outputId": "a517b4f8-908b-4c2d-f21b-5ac729cb57b8"
      },
      "execution_count": 2,
      "outputs": [
        {
          "output_type": "stream",
          "name": "stdout",
          "text": [
            "Mounted at /content/drive\n"
          ]
        }
      ]
    },
    {
      "cell_type": "code",
      "source": [
        "def parse_log_file(txt_file_path):\n",
        "\n",
        "    rating_events = []\n",
        "\n",
        "    rating_pattern = re.compile(r'GET /rate/([^=]+)=(\\d+)')\n",
        "\n",
        "    with open(txt_file_path, 'r') as f:\n",
        "        for line in f:\n",
        "            line = line.strip()\n",
        "            # Each line is expected to have 3 comma-separated parts\n",
        "            parts = line.split(',')\n",
        "            if len(parts) != 3:\n",
        "                continue\n",
        "            timestamp, user_id, request = parts\n",
        "            user_id = user_id.strip()\n",
        "\n",
        "            # Check for rating event using regex\n",
        "            rating_match = rating_pattern.search(request)\n",
        "            if rating_match:\n",
        "                movie_id = rating_match.group(1)\n",
        "                rating = int(rating_match.group(2))\n",
        "                rating_events.append({\n",
        "                    'timestamp': timestamp,\n",
        "                    'user_id': user_id,\n",
        "                    'movie_id': movie_id,\n",
        "                    'rating': rating\n",
        "                })\n",
        "            # Optionally, you can also handle watch events if you want to derive implicit feedback.\n",
        "            # For now, we only use explicit rating events.\n",
        "\n",
        "    return pd.DataFrame(rating_events)"
      ],
      "metadata": {
        "id": "_Uy7rs4lmQXq"
      },
      "execution_count": 12,
      "outputs": []
    },
    {
      "cell_type": "code",
      "source": [
        "def parse_log_file(json_file_path):\n",
        "\n",
        "      rating_events = []\n",
        "\n",
        "      # Open and load JSON file\n",
        "      with open(json_file_path, 'r') as f:\n",
        "          data = json.load(f)  # Load JSON data\n",
        "\n",
        "      # Iterate through JSON objects\n",
        "      for entry in data:\n",
        "          if entry.get(\"type\") == \"rating\":  # Ensure it's a rating event\n",
        "              rating_events.append({\n",
        "                  'timestamp': entry.get(\"raw\").split(',')[0],  # Extract timestamp from raw field\n",
        "                  'user_id': entry[\"user_details\"].get(\"user_id\"),\n",
        "                  'age': entry[\"user_details\"].get(\"age\"),\n",
        "                  'occupation': entry[\"user_details\"].get(\"occupation\"),\n",
        "                  'gender': entry[\"user_details\"].get(\"gender\"),\n",
        "                  'movie_id': entry.get(\"movieid\"),\n",
        "                  'rating': int(entry.get(\"rating\"))  # Convert rating to integer\n",
        "              })\n",
        "\n",
        "      # Convert list to DataFrame\n",
        "      return pd.DataFrame(rating_events)\n"
      ],
      "metadata": {
        "id": "N3C6DpQ5j16-"
      },
      "execution_count": 15,
      "outputs": []
    },
    {
      "cell_type": "code",
      "source": [
        "# 1. Parse the Log File\n",
        "log_file_path = '/content/drive/MyDrive/rating_events.json'\n",
        "df = parse_log_file(log_file_path)\n",
        "\n",
        "reader = Reader(rating_scale=(1, 5))\n",
        "\n",
        "data = Dataset.load_from_df(df[['user_id', 'movie_id', 'rating']], reader)\n"
      ],
      "metadata": {
        "id": "91ORImlFmT-f"
      },
      "execution_count": 88,
      "outputs": []
    },
    {
      "cell_type": "code",
      "source": [
        "#2. Split the Data\n",
        "trainset, testset = train_test_split(data, test_size=0.2)"
      ],
      "metadata": {
        "id": "pjX_OzxMmoxf"
      },
      "execution_count": 89,
      "outputs": []
    },
    {
      "cell_type": "code",
      "source": [
        "sim_options = {\n",
        "    'name': 'cosine',\n",
        "    'user_based': True\n",
        "}"
      ],
      "metadata": {
        "id": "0Fbin5ormqnS"
      },
      "execution_count": 90,
      "outputs": []
    },
    {
      "cell_type": "code",
      "source": [
        "algo = KNNWithMeans(sim_options=sim_options)\n",
        "algo.fit(trainset)"
      ],
      "metadata": {
        "colab": {
          "base_uri": "https://localhost:8080/"
        },
        "id": "bfNnEKlLmz6G",
        "outputId": "1e009f6c-9741-48e3-e0ad-84b99144bbaa"
      },
      "execution_count": 91,
      "outputs": [
        {
          "output_type": "stream",
          "name": "stdout",
          "text": [
            "Computing the cosine similarity matrix...\n",
            "Done computing similarity matrix.\n"
          ]
        },
        {
          "output_type": "execute_result",
          "data": {
            "text/plain": [
              "<surprise.prediction_algorithms.knns.KNNWithMeans at 0x7f084a1b0a50>"
            ]
          },
          "metadata": {},
          "execution_count": 91
        }
      ]
    },
    {
      "cell_type": "code",
      "source": [
        "def get_top_n(predictions, n=20):\n",
        "\n",
        "    # Create a dictionary of predictions for each user\n",
        "    top_n = {}\n",
        "\n",
        "    for uid, iid, true_r, est, _ in predictions:\n",
        "        if uid not in top_n:\n",
        "            top_n[uid] = []\n",
        "        top_n[uid].append((iid, est))\n",
        "\n",
        "    # Sort the predictions\n",
        "    for uid, user_ratings in top_n.items():\n",
        "        user_ratings.sort(key=lambda x: x[1], reverse=True)\n",
        "        top_n[uid] = user_ratings[:n]\n",
        "\n",
        "    return top_n"
      ],
      "metadata": {
        "id": "YIeiZbYmznGq"
      },
      "execution_count": 59,
      "outputs": []
    },
    {
      "cell_type": "code",
      "source": [
        "def get_top_20_recommendations_for_user(user_id, df_predict):\n",
        "    all_movie_ids = set(df_predict['movie_id'].unique())\n",
        "\n",
        "    # Get the list of movies that the user has already rated\n",
        "    rated_movies = set(df_predict[df_predict['user_id'] == user_id]['movie_id'])\n",
        "\n",
        "    # Get the list of unrated movies for this user\n",
        "    unrated_movies = all_movie_ids - rated_movies\n",
        "\n",
        "    # Generate predictions for all unrated movies\n",
        "    predictions = []\n",
        "    for movie_id in unrated_movies:\n",
        "        prediction = algo.predict(user_id, movie_id)\n",
        "        predictions.append((movie_id, prediction.est))\n",
        "\n",
        "    # Sort the predictions\n",
        "    predictions.sort(key=lambda x: x[1], reverse = True)\n",
        "\n",
        "    top_20 = predictions[:20]\n",
        "\n",
        "    # Get the top 20 movie IDs\n",
        "    top_20_movie_ids = [str(movie_id) for movie_id, _ in top_20]\n",
        "    top_20_movie_ids_output = \",\".join(top_20_movie_ids)\n",
        "\n",
        "    top_20_with_ratings = [f\"{movie_id}: {rating:.2f}\" for movie_id, rating in top_20]\n",
        "    top_20_with_ratings_output = \",\".join(top_20_with_ratings)\n",
        "\n",
        "    return top_20_movie_ids_output, top_20_with_ratings_output"
      ],
      "metadata": {
        "id": "PKAQrwmc0WSy"
      },
      "execution_count": 180,
      "outputs": []
    },
    {
      "cell_type": "markdown",
      "source": [
        "Shared train and test data"
      ],
      "metadata": {
        "id": "WOZOmUUjGzp9"
      }
    },
    {
      "cell_type": "code",
      "source": [
        "file_path = '/content/drive/MyDrive/cb_train_data.csv'\n",
        "df_2 = pd.read_csv(file_path)\n",
        "df_2 = df_2[['user_id', 'movie_id', 'rating']]\n",
        "\n",
        "file_path_1 = \"/content/drive/MyDrive/cb_test_data.csv\"\n",
        "df_3 = pd.read_csv(file_path_1)\n",
        "df_3 = df_3[['user_id', 'movie_id', 'rating']]\n",
        "\n",
        "df = df[['user_id', 'movie_id', 'rating']]\n",
        "\n",
        "reader = Reader(rating_scale=(1, 5))\n",
        "\n",
        "df_2 = df_2.drop_duplicates()\n",
        "df_3 = df_3.drop_duplicates()\n",
        "\n",
        "df_2 = df_2.dropna()\n",
        "df_3 = df_3.dropna()\n",
        "\n",
        "trainset = Dataset.load_from_df(df_2, reader).build_full_trainset()\n",
        "\n",
        "#using shared test data or rating_event.json\n",
        "testset_shared = Dataset.load_from_df(df, reader).build_full_trainset().build_testset()\n",
        "testset_rating = Dataset.load_from_df(df_3, reader).build_full_trainset().build_testset()"
      ],
      "metadata": {
        "id": "IBdcxRu6Gyqt"
      },
      "execution_count": 193,
      "outputs": []
    },
    {
      "cell_type": "code",
      "source": [
        "algo = KNNWithMeans(sim_options=sim_options)\n",
        "algo.fit(trainset)"
      ],
      "metadata": {
        "colab": {
          "base_uri": "https://localhost:8080/"
        },
        "id": "4HIyFwabHLOl",
        "outputId": "590900c2-8e52-44a5-b202-26709a4f51ec"
      },
      "execution_count": 190,
      "outputs": [
        {
          "output_type": "stream",
          "name": "stdout",
          "text": [
            "Computing the cosine similarity matrix...\n",
            "Done computing similarity matrix.\n"
          ]
        },
        {
          "output_type": "execute_result",
          "data": {
            "text/plain": [
              "<surprise.prediction_algorithms.knns.KNNWithMeans at 0x7f084253ec90>"
            ]
          },
          "metadata": {},
          "execution_count": 190
        }
      ]
    },
    {
      "cell_type": "code",
      "source": [
        "predictions = algo.test(testset_shared)\n",
        "\n",
        "# Compute RMSE\n",
        "rmse = accuracy.rmse(predictions)\n",
        "print(f\"RMSE: {rmse}\")\n",
        "\n",
        "# Compute MAE\n",
        "mae = accuracy.mae(predictions)\n",
        "print(f\"MAE: {mae}\")"
      ],
      "metadata": {
        "colab": {
          "base_uri": "https://localhost:8080/"
        },
        "id": "d6sUROGGGytR",
        "outputId": "c4fde510-eaff-4850-a16c-5d889a887dc7"
      },
      "execution_count": 191,
      "outputs": [
        {
          "output_type": "stream",
          "name": "stdout",
          "text": [
            "RMSE: 1.0936\n",
            "RMSE: 1.09364249156831\n",
            "MAE:  0.9065\n",
            "MAE: 0.9065131498138723\n"
          ]
        }
      ]
    },
    {
      "cell_type": "code",
      "source": [
        "predictions = algo.test(testset_rating)\n",
        "\n",
        "# Compute RMSE\n",
        "rmse = accuracy.rmse(predictions)\n",
        "print(f\"RMSE: {rmse}\")\n",
        "\n",
        "# Compute MAE\n",
        "mae = accuracy.mae(predictions)\n",
        "print(f\"MAE: {mae}\")"
      ],
      "metadata": {
        "colab": {
          "base_uri": "https://localhost:8080/"
        },
        "id": "Hyfv0j6oEPZU",
        "outputId": "788ee612-613e-4769-d416-3952367d0ed0"
      },
      "execution_count": 192,
      "outputs": [
        {
          "output_type": "stream",
          "name": "stdout",
          "text": [
            "RMSE: 0.2324\n",
            "RMSE: 0.23236940265080647\n",
            "MAE:  0.0737\n",
            "MAE: 0.07371159209953466\n"
          ]
        }
      ]
    },
    {
      "cell_type": "code",
      "source": [
        "user_id = 102833 # The user ID for whom we want the recommendations\n",
        "top_20_movie_ids, top_20_with_ratings = get_top_20_recommendations_for_user(user_id, df_2)\n",
        "\n",
        "print(f\"Top 20 recommended movies for user {user_id}:\")\n",
        "print(top_20_movie_ids)\n",
        "print(top_20_with_ratings)"
      ],
      "metadata": {
        "colab": {
          "base_uri": "https://localhost:8080/"
        },
        "id": "b8UGghaJ0bW3",
        "outputId": "24e96124-1536-4383-c504-e220d54efa40"
      },
      "execution_count": 184,
      "outputs": [
        {
          "output_type": "stream",
          "name": "stdout",
          "text": [
            "Top 20 recommended movies for user 102833:\n",
            "pleasantville+1998,operation+dumbo+drop+1995,last+action+hero+1993,the+6th+day+2000,all+quiet+on+the+western+front+1930,halloween+h20+1998,bringing+up+baby+1938,american+gangster+2007,the+brady+bunch+movie+1995,over+the+hedge+2006,rain+man+1988,the+running+man+1987,ferris+buellers+day+off+1986,the+legend+of+drunken+master+1994,the+talented+mr.+ripley+1999,the+dark+knight+2008,the+machinist+2004,blade+1998,kick-ass+2010,grumpier+old+men+1995\n",
            "pleasantville+1998: 4.00,operation+dumbo+drop+1995: 4.00,last+action+hero+1993: 4.00,the+6th+day+2000: 4.00,all+quiet+on+the+western+front+1930: 4.00,halloween+h20+1998: 4.00,bringing+up+baby+1938: 4.00,american+gangster+2007: 4.00,the+brady+bunch+movie+1995: 4.00,over+the+hedge+2006: 4.00,rain+man+1988: 4.00,the+running+man+1987: 4.00,ferris+buellers+day+off+1986: 4.00,the+legend+of+drunken+master+1994: 4.00,the+talented+mr.+ripley+1999: 4.00,the+dark+knight+2008: 4.00,the+machinist+2004: 4.00,blade+1998: 4.00,kick-ass+2010: 4.00,grumpier+old+men+1995: 4.00\n"
          ]
        }
      ]
    },
    {
      "cell_type": "code",
      "source": [
        "user_id = 6566 # The user ID for whom we want the recommendations\n",
        "top_20_movie_ids, top_20_with_ratings = get_top_20_recommendations_for_user(user_id, df_2)\n",
        "\n",
        "print(f\"Top 20 recommended movies for user {user_id}:\")\n",
        "print(top_20_movie_ids)\n",
        "print(top_20_with_ratings)"
      ],
      "metadata": {
        "colab": {
          "base_uri": "https://localhost:8080/"
        },
        "id": "_N6eD5Ngq3KH",
        "outputId": "85c200ae-a766-428b-acda-78814feabbaa"
      },
      "execution_count": 183,
      "outputs": [
        {
          "output_type": "stream",
          "name": "stdout",
          "text": [
            "Top 20 recommended movies for user 6566:\n",
            "over+the+hedge+2006,the+blues+brothers+1980,zombieland+2009,the+naked+gun+from+the+files+of+police+squad+1988,inception+2010,serendipity+2001,jack+1996,harold+and+maude+1971,annie+hall+1977,tampopo+1985,the+apartment+1960,pleasantville+1998,operation+dumbo+drop+1995,last+action+hero+1993,the+6th+day+2000,all+quiet+on+the+western+front+1930,halloween+h20+1998,bringing+up+baby+1938,american+gangster+2007,the+brady+bunch+movie+1995\n",
            "over+the+hedge+2006: 5.00,the+blues+brothers+1980: 4.88,zombieland+2009: 4.76,the+naked+gun+from+the+files+of+police+squad+1988: 4.76,inception+2010: 4.76,serendipity+2001: 4.73,jack+1996: 4.73,harold+and+maude+1971: 4.21,annie+hall+1977: 4.21,tampopo+1985: 4.21,the+apartment+1960: 4.21,pleasantville+1998: 3.88,operation+dumbo+drop+1995: 3.88,last+action+hero+1993: 3.88,the+6th+day+2000: 3.88,all+quiet+on+the+western+front+1930: 3.88,halloween+h20+1998: 3.88,bringing+up+baby+1938: 3.88,american+gangster+2007: 3.88,the+brady+bunch+movie+1995: 3.88\n"
          ]
        }
      ]
    },
    {
      "cell_type": "code",
      "source": [
        "user_id = 32206  # The user ID for whom we want the recommendations\n",
        "top_20_movie_ids, top_20_with_ratings = get_top_20_recommendations_for_user(user_id, df_2)\n",
        "\n",
        "print(f\"Top 20 recommended movies for user {user_id}:\")\n",
        "print(top_20_movie_ids)\n",
        "print(top_20_with_ratings)"
      ],
      "metadata": {
        "colab": {
          "base_uri": "https://localhost:8080/"
        },
        "id": "S_HlB2foyGC5",
        "outputId": "09ced56d-782a-49b2-dd99-e84b764c9640"
      },
      "execution_count": 181,
      "outputs": [
        {
          "output_type": "stream",
          "name": "stdout",
          "text": [
            "Top 20 recommended movies for user 32206:\n",
            "the+matrix+1999,enter+the+dragon+1973,pleasantville+1998,operation+dumbo+drop+1995,last+action+hero+1993,the+6th+day+2000,all+quiet+on+the+western+front+1930,halloween+h20+1998,bringing+up+baby+1938,american+gangster+2007,the+brady+bunch+movie+1995,over+the+hedge+2006,rain+man+1988,the+running+man+1987,ferris+buellers+day+off+1986,the+legend+of+drunken+master+1994,the+talented+mr.+ripley+1999,the+dark+knight+2008,the+machinist+2004,blade+1998\n",
            "the+matrix+1999: 4.31,enter+the+dragon+1973: 4.31,pleasantville+1998: 3.71,operation+dumbo+drop+1995: 3.71,last+action+hero+1993: 3.71,the+6th+day+2000: 3.71,all+quiet+on+the+western+front+1930: 3.71,halloween+h20+1998: 3.71,bringing+up+baby+1938: 3.71,american+gangster+2007: 3.71,the+brady+bunch+movie+1995: 3.71,over+the+hedge+2006: 3.71,rain+man+1988: 3.71,the+running+man+1987: 3.71,ferris+buellers+day+off+1986: 3.71,the+legend+of+drunken+master+1994: 3.71,the+talented+mr.+ripley+1999: 3.71,the+dark+knight+2008: 3.71,the+machinist+2004: 3.71,blade+1998: 3.71\n"
          ]
        }
      ]
    },
    {
      "cell_type": "code",
      "source": [
        "user_id = 19755 # The user ID for whom we want the recommendations\n",
        "top_20_movie_ids, top_20_with_ratings = get_top_20_recommendations_for_user(user_id, df_2)\n",
        "\n",
        "print(f\"Top 20 recommended movies for user {user_id}:\")\n",
        "print(top_20_movie_ids)\n",
        "print(top_20_with_ratings)"
      ],
      "metadata": {
        "colab": {
          "base_uri": "https://localhost:8080/"
        },
        "id": "SK6Gb0TD89p8",
        "outputId": "4b976121-d802-4438-8020-82688ac5afa6"
      },
      "execution_count": 187,
      "outputs": [
        {
          "output_type": "stream",
          "name": "stdout",
          "text": [
            "Top 20 recommended movies for user 19755:\n",
            "galaxy+quest+1999,harry+potter+and+the+philosophers+stone+2001,blade+runner+1982,harold+and+maude+1971,annie+hall+1977,tampopo+1985,the+apartment+1960,wild+things+1998,pleasantville+1998,operation+dumbo+drop+1995,last+action+hero+1993,the+6th+day+2000,all+quiet+on+the+western+front+1930,halloween+h20+1998,bringing+up+baby+1938,american+gangster+2007,the+brady+bunch+movie+1995,over+the+hedge+2006,rain+man+1988,the+running+man+1987\n",
            "galaxy+quest+1999: 5.00,harry+potter+and+the+philosophers+stone+2001: 5.00,blade+runner+1982: 4.84,harold+and+maude+1971: 4.44,annie+hall+1977: 4.44,tampopo+1985: 4.44,the+apartment+1960: 4.44,wild+things+1998: 4.24,pleasantville+1998: 4.11,operation+dumbo+drop+1995: 4.11,last+action+hero+1993: 4.11,the+6th+day+2000: 4.11,all+quiet+on+the+western+front+1930: 4.11,halloween+h20+1998: 4.11,bringing+up+baby+1938: 4.11,american+gangster+2007: 4.11,the+brady+bunch+movie+1995: 4.11,over+the+hedge+2006: 4.11,rain+man+1988: 4.11,the+running+man+1987: 4.11\n"
          ]
        }
      ]
    }
  ]
}