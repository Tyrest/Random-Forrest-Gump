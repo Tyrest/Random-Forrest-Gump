{
 "cells": [
  {
   "cell_type": "code",
   "execution_count": null,
   "metadata": {},
   "outputs": [],
   "source": [
    "import polars as pl\n",
    "\n",
    "movie_play_events_df = pl.read_json(\"../data/movie_play_events.json\")"
   ]
  },
  {
   "cell_type": "code",
   "execution_count": 20,
   "metadata": {},
   "outputs": [
    {
     "data": {
      "text/plain": [
       "513273"
      ]
     },
     "execution_count": 20,
     "metadata": {},
     "output_type": "execute_result"
    }
   ],
   "source": [
    "len(movie_play_events_df)"
   ]
  },
  {
   "cell_type": "code",
   "execution_count": 30,
   "metadata": {},
   "outputs": [],
   "source": [
    "movies = movie_play_events_df[\"movie_details\"].unique()"
   ]
  },
  {
   "cell_type": "code",
   "execution_count": 31,
   "metadata": {},
   "outputs": [
    {
     "data": {
      "text/html": [
       "<div><style>\n",
       ".dataframe > thead > tr,\n",
       ".dataframe > tbody > tr {\n",
       "  text-align: right;\n",
       "  white-space: pre-wrap;\n",
       "}\n",
       "</style>\n",
       "<small>shape: (1_741, 23)</small><table border=\"1\" class=\"dataframe\"><thead><tr><th>id</th><th>tmdb_id</th><th>imdb_id</th><th>title</th><th>original_title</th><th>adult</th><th>belongs_to_collection</th><th>budget</th><th>genres</th><th>homepage</th><th>original_language</th><th>overview</th><th>popularity</th><th>poster_path</th><th>production_companies</th><th>production_countries</th><th>release_date</th><th>revenue</th><th>runtime</th><th>spoken_languages</th><th>status</th><th>vote_average</th><th>vote_count</th></tr><tr><td>str</td><td>i64</td><td>str</td><td>str</td><td>str</td><td>str</td><td>struct[4]</td><td>str</td><td>list[struct[2]]</td><td>str</td><td>str</td><td>str</td><td>str</td><td>str</td><td>list[struct[2]]</td><td>list[struct[2]]</td><td>str</td><td>str</td><td>i64</td><td>list[struct[2]]</td><td>str</td><td>str</td><td>str</td></tr></thead><tbody><tr><td>&quot;sleeping+beauty+1959&quot;</td><td>10882</td><td>&quot;tt0053285&quot;</td><td>&quot;Sleeping Beauty&quot;</td><td>&quot;Sleeping Beauty&quot;</td><td>&quot;False&quot;</td><td>{null,null,null,null}</td><td>&quot;6000000&quot;</td><td>[{14,&quot;Fantasy&quot;}, {16,&quot;Animation&quot;}, … {10751,&quot;Family&quot;}]</td><td>&quot;null&quot;</td><td>&quot;en&quot;</td><td>&quot;A beautiful princess born in a…</td><td>&quot;14.276169&quot;</td><td>&quot;/iFJGafuB2f2IJWG2EmdtUpgfAn6.j…</td><td>[{&quot;Walt Disney Productions&quot;,3166}]</td><td>[{&quot;US&quot;,&quot;United States of America&quot;}]</td><td>&quot;1959-01-28&quot;</td><td>&quot;51000000&quot;</td><td>75</td><td>[{&quot;en&quot;,&quot;English&quot;}]</td><td>&quot;Released&quot;</td><td>&quot;6.8&quot;</td><td>&quot;1332&quot;</td></tr><tr><td>&quot;uncle+buck+1989&quot;</td><td>2616</td><td>&quot;tt0098554&quot;</td><td>&quot;Uncle Buck&quot;</td><td>&quot;Uncle Buck&quot;</td><td>&quot;False&quot;</td><td>{null,null,null,null}</td><td>&quot;15000000&quot;</td><td>[{35,&quot;Comedy&quot;}, {18,&quot;Drama&quot;}, {10751,&quot;Family&quot;}]</td><td>&quot;null&quot;</td><td>&quot;en&quot;</td><td>&quot;As an idle, good-natured bache…</td><td>&quot;8.13754&quot;</td><td>&quot;/pfRn0CzYq5n49EDl8BV8Jjry6ZM.j…</td><td>[{&quot;Universal Pictures&quot;,33}, {&quot;Hughes Entertainment&quot;,477}]</td><td>[{&quot;US&quot;,&quot;United States of America&quot;}]</td><td>&quot;1989-08-16&quot;</td><td>&quot;79258538&quot;</td><td>100</td><td>[{&quot;en&quot;,&quot;English&quot;}]</td><td>&quot;Released&quot;</td><td>&quot;6.6&quot;</td><td>&quot;338&quot;</td></tr><tr><td>&quot;the+natural+1984&quot;</td><td>11393</td><td>&quot;tt0087781&quot;</td><td>&quot;The Natural&quot;</td><td>&quot;The Natural&quot;</td><td>&quot;False&quot;</td><td>{null,null,null,null}</td><td>&quot;28000000&quot;</td><td>[{18,&quot;Drama&quot;}]</td><td>&quot;null&quot;</td><td>&quot;en&quot;</td><td>&quot;An unknown middle-aged batter …</td><td>&quot;12.319855&quot;</td><td>&quot;/f1iPiQoYbQ40XsJHPyMIiBmSrDB.j…</td><td>[{&quot;TriStar Pictures&quot;,559}]</td><td>[{&quot;US&quot;,&quot;United States of America&quot;}]</td><td>&quot;1984-05-11&quot;</td><td>&quot;47951979&quot;</td><td>137</td><td>[{&quot;en&quot;,&quot;English&quot;}]</td><td>&quot;Released&quot;</td><td>&quot;7.0&quot;</td><td>&quot;162&quot;</td></tr><tr><td>&quot;nick+and+norahs+infinite+playl…</td><td>12182</td><td>&quot;tt0981227&quot;</td><td>&quot;Nick and Norah&#x27;s Infinite Play…</td><td>&quot;Nick and Norah&#x27;s Infinite Play…</td><td>&quot;False&quot;</td><td>{null,null,null,null}</td><td>&quot;9000000&quot;</td><td>[{35,&quot;Comedy&quot;}, {10402,&quot;Music&quot;}, {10749,&quot;Romance&quot;}]</td><td>&quot;null&quot;</td><td>&quot;en&quot;</td><td>&quot;Nick cannot stop obsessing ove…</td><td>&quot;12.992176&quot;</td><td>&quot;/pM199sJFY0MQo5IcfUFWmAZUlt7.j…</td><td>[{&quot;Columbia Pictures&quot;,5}, {&quot;Mandate Pictures&quot;,771}, … {&quot;Screen Gems&quot;,3287}]</td><td>[{&quot;US&quot;,&quot;United States of America&quot;}]</td><td>&quot;2008-10-03&quot;</td><td>&quot;32973937&quot;</td><td>89</td><td>[{&quot;en&quot;,&quot;English&quot;}]</td><td>&quot;Released&quot;</td><td>&quot;6.4&quot;</td><td>&quot;387&quot;</td></tr><tr><td>&quot;akira+1988&quot;</td><td>149</td><td>&quot;tt0094625&quot;</td><td>&quot;Akira&quot;</td><td>&quot;アキラ&quot;</td><td>&quot;False&quot;</td><td>{null,null,null,null}</td><td>&quot;8000000&quot;</td><td>[{878,&quot;Science Fiction&quot;}, {16,&quot;Animation&quot;}]</td><td>&quot;http://www.bandaivisual.co.jp/…</td><td>&quot;ja&quot;</td><td>&quot;Childhood friends Tetsuo and K…</td><td>&quot;10.888917&quot;</td><td>&quot;/8Pt7hlu7fkc5IIR0VZ2kNGY8sT4.j…</td><td>[{&quot;Bandai Visual Company&quot;,528}, {&quot;Toho Company&quot;,882}, … {&quot;Sumitomo Corporation&quot;,10921}]</td><td>[{&quot;JP&quot;,&quot;Japan&quot;}]</td><td>&quot;1988-07-16&quot;</td><td>&quot;553171&quot;</td><td>124</td><td>[{&quot;ja&quot;,&quot;日本語&quot;}]</td><td>&quot;Released&quot;</td><td>&quot;7.8&quot;</td><td>&quot;792&quot;</td></tr><tr><td>&hellip;</td><td>&hellip;</td><td>&hellip;</td><td>&hellip;</td><td>&hellip;</td><td>&hellip;</td><td>&hellip;</td><td>&hellip;</td><td>&hellip;</td><td>&hellip;</td><td>&hellip;</td><td>&hellip;</td><td>&hellip;</td><td>&hellip;</td><td>&hellip;</td><td>&hellip;</td><td>&hellip;</td><td>&hellip;</td><td>&hellip;</td><td>&hellip;</td><td>&hellip;</td><td>&hellip;</td><td>&hellip;</td></tr><tr><td>&quot;jungle+book+1942&quot;</td><td>23033</td><td>&quot;tt0034928&quot;</td><td>&quot;Jungle Book&quot;</td><td>&quot;Jungle Book&quot;</td><td>&quot;False&quot;</td><td>{null,null,null,null}</td><td>&quot;0&quot;</td><td>[{28,&quot;Action&quot;}, {12,&quot;Adventure&quot;}, … {14,&quot;Fantasy&quot;}]</td><td>&quot;null&quot;</td><td>&quot;en&quot;</td><td>&quot;Rudyard Kipling&#x27;s Jungle Book …</td><td>&quot;2.467773&quot;</td><td>&quot;/wHkgkGSfxbwz7xCkoAvaMviKLmD.j…</td><td>[{&quot;Alexander Korda Films&quot;,4167}]</td><td>[{&quot;US&quot;,&quot;United States of America&quot;}]</td><td>&quot;1942-04-03&quot;</td><td>&quot;0&quot;</td><td>108</td><td>[{&quot;en&quot;,&quot;English&quot;}, {&quot;ru&quot;,&quot;Pусский&quot;}]</td><td>&quot;Released&quot;</td><td>&quot;6.6&quot;</td><td>&quot;20&quot;</td></tr><tr><td>&quot;the+piano+1993&quot;</td><td>713</td><td>&quot;tt0107822&quot;</td><td>&quot;The Piano&quot;</td><td>&quot;The Piano&quot;</td><td>&quot;False&quot;</td><td>{null,null,null,null}</td><td>&quot;7000000&quot;</td><td>[{18,&quot;Drama&quot;}, {10749,&quot;Romance&quot;}]</td><td>&quot;null&quot;</td><td>&quot;en&quot;</td><td>&quot;After a long voyage from Scotl…</td><td>&quot;7.436758&quot;</td><td>&quot;/yuGqa81ye11dDAeBZ9MResJSmoY.j…</td><td>[{&quot;New South Wales Film &amp; Television Office&quot;,418}, {&quot;The Australian Film Commission&quot;,5186}, … {&quot;Jan Chapman Productions&quot;,14089}]</td><td>[{&quot;NZ&quot;,&quot;New Zealand&quot;}, {&quot;AU&quot;,&quot;Australia&quot;}, {&quot;FR&quot;,&quot;France&quot;}]</td><td>&quot;1993-05-19&quot;</td><td>&quot;116700000&quot;</td><td>121</td><td>[{&quot;en&quot;,&quot;English&quot;}, {&quot;mi&quot;,&quot;&quot;}]</td><td>&quot;Released&quot;</td><td>&quot;7.1&quot;</td><td>&quot;290&quot;</td></tr><tr><td>&quot;ever+after+a+cinderella+story+…</td><td>9454</td><td>&quot;tt0120631&quot;</td><td>&quot;Ever After: A Cinderella Story&quot;</td><td>&quot;EverAfter&quot;</td><td>&quot;False&quot;</td><td>{null,null,null,null}</td><td>&quot;26000000&quot;</td><td>[{18,&quot;Drama&quot;}, {10749,&quot;Romance&quot;}, {35,&quot;Comedy&quot;}]</td><td>&quot;null&quot;</td><td>&quot;en&quot;</td><td>&quot;A unique 16th century woman, D…</td><td>&quot;13.309701&quot;</td><td>&quot;/1ELrosU04wEbfmxK9wLBjdEECqm.j…</td><td>[{&quot;Twentieth Century Fox Film Corporation&quot;,306}]</td><td>[{&quot;US&quot;,&quot;United States of America&quot;}]</td><td>&quot;1998-07-31&quot;</td><td>&quot;65705772&quot;</td><td>121</td><td>[{&quot;en&quot;,&quot;English&quot;}]</td><td>&quot;Released&quot;</td><td>&quot;6.8&quot;</td><td>&quot;408&quot;</td></tr><tr><td>&quot;the+perks+of+being+a+wallflowe…</td><td>84892</td><td>&quot;tt1659337&quot;</td><td>&quot;The Perks of Being a Wallflowe…</td><td>&quot;The Perks of Being a Wallflowe…</td><td>&quot;False&quot;</td><td>{null,null,null,null}</td><td>&quot;13000000&quot;</td><td>[{18,&quot;Drama&quot;}, {10749,&quot;Romance&quot;}]</td><td>&quot;http://perks-of-being-a-wallfl…</td><td>&quot;en&quot;</td><td>&quot;A coming-of-age story based on…</td><td>&quot;12.775679&quot;</td><td>&quot;/cyNQLnHnXZcTUDXVVSEYmquOTOI.j…</td><td>[{&quot;Summit Entertainment&quot;,491}, {&quot;Mr. Mudd Production&quot;,2130}]</td><td>[{&quot;US&quot;,&quot;United States of America&quot;}]</td><td>&quot;2012-09-20&quot;</td><td>&quot;33400000&quot;</td><td>102</td><td>[{&quot;en&quot;,&quot;English&quot;}]</td><td>&quot;Released&quot;</td><td>&quot;7.7&quot;</td><td>&quot;3056&quot;</td></tr><tr><td>&quot;m*a*s*h+1970&quot;</td><td>651</td><td>&quot;tt0066026&quot;</td><td>&quot;M*A*S*H&quot;</td><td>&quot;M*A*S*H&quot;</td><td>&quot;False&quot;</td><td>{null,null,null,null}</td><td>&quot;3500000&quot;</td><td>[{35,&quot;Comedy&quot;}, {18,&quot;Drama&quot;}, {10752,&quot;War&quot;}]</td><td>&quot;null&quot;</td><td>&quot;en&quot;</td><td>&quot;One of the world&#x27;s most acclai…</td><td>&quot;7.701349&quot;</td><td>&quot;/eOslMOtaPXgQEgVJ93U3KOLogGD.j…</td><td>[{&quot;Twentieth Century Fox Film Corporation&quot;,306}, {&quot;Aspen Productions (I)&quot;,37667}, {&quot;Ingo Preminger Productions&quot;,79024}]</td><td>[{&quot;US&quot;,&quot;United States of America&quot;}]</td><td>&quot;1970-01-24&quot;</td><td>&quot;81600000&quot;</td><td>116</td><td>[{&quot;en&quot;,&quot;English&quot;}, {&quot;fr&quot;,&quot;Français&quot;}, … {&quot;ko&quot;,&quot;한국어/조선말&quot;}]</td><td>&quot;Released&quot;</td><td>&quot;6.9&quot;</td><td>&quot;238&quot;</td></tr></tbody></table></div>"
      ],
      "text/plain": [
       "shape: (1_741, 23)\n",
       "┌────────────┬─────────┬───────────┬────────────┬───┬───────────┬──────────┬───────────┬───────────┐\n",
       "│ id         ┆ tmdb_id ┆ imdb_id   ┆ title      ┆ … ┆ spoken_la ┆ status   ┆ vote_aver ┆ vote_coun │\n",
       "│ ---        ┆ ---     ┆ ---       ┆ ---        ┆   ┆ nguages   ┆ ---      ┆ age       ┆ t         │\n",
       "│ str        ┆ i64     ┆ str       ┆ str        ┆   ┆ ---       ┆ str      ┆ ---       ┆ ---       │\n",
       "│            ┆         ┆           ┆            ┆   ┆ list[stru ┆          ┆ str       ┆ str       │\n",
       "│            ┆         ┆           ┆            ┆   ┆ ct[2]]    ┆          ┆           ┆           │\n",
       "╞════════════╪═════════╪═══════════╪════════════╪═══╪═══════════╪══════════╪═══════════╪═══════════╡\n",
       "│ sleeping+b ┆ 10882   ┆ tt0053285 ┆ Sleeping   ┆ … ┆ [{\"en\",\"E ┆ Released ┆ 6.8       ┆ 1332      │\n",
       "│ eauty+1959 ┆         ┆           ┆ Beauty     ┆   ┆ nglish\"}] ┆          ┆           ┆           │\n",
       "│ uncle+buck ┆ 2616    ┆ tt0098554 ┆ Uncle Buck ┆ … ┆ [{\"en\",\"E ┆ Released ┆ 6.6       ┆ 338       │\n",
       "│ +1989      ┆         ┆           ┆            ┆   ┆ nglish\"}] ┆          ┆           ┆           │\n",
       "│ the+natura ┆ 11393   ┆ tt0087781 ┆ The        ┆ … ┆ [{\"en\",\"E ┆ Released ┆ 7.0       ┆ 162       │\n",
       "│ l+1984     ┆         ┆           ┆ Natural    ┆   ┆ nglish\"}] ┆          ┆           ┆           │\n",
       "│ nick+and+n ┆ 12182   ┆ tt0981227 ┆ Nick and   ┆ … ┆ [{\"en\",\"E ┆ Released ┆ 6.4       ┆ 387       │\n",
       "│ orahs+infi ┆         ┆           ┆ Norah's    ┆   ┆ nglish\"}] ┆          ┆           ┆           │\n",
       "│ nite+playl ┆         ┆           ┆ Infinite   ┆   ┆           ┆          ┆           ┆           │\n",
       "│ …          ┆         ┆           ┆ Play…      ┆   ┆           ┆          ┆           ┆           │\n",
       "│ akira+1988 ┆ 149     ┆ tt0094625 ┆ Akira      ┆ … ┆ [{\"ja\",\"  ┆ Released ┆ 7.8       ┆ 792       │\n",
       "│            ┆         ┆           ┆            ┆   ┆ 日本語\"}] ┆          ┆           ┆           │\n",
       "│ …          ┆ …       ┆ …         ┆ …          ┆ … ┆ …         ┆ …        ┆ …         ┆ …         │\n",
       "│ jungle+boo ┆ 23033   ┆ tt0034928 ┆ Jungle     ┆ … ┆ [{\"en\",\"E ┆ Released ┆ 6.6       ┆ 20        │\n",
       "│ k+1942     ┆         ┆           ┆ Book       ┆   ┆ nglish\"}, ┆          ┆           ┆           │\n",
       "│            ┆         ┆           ┆            ┆   ┆ {\"ru\",\"Pу ┆          ┆           ┆           │\n",
       "│            ┆         ┆           ┆            ┆   ┆ сс…       ┆          ┆           ┆           │\n",
       "│ the+piano+ ┆ 713     ┆ tt0107822 ┆ The Piano  ┆ … ┆ [{\"en\",\"E ┆ Released ┆ 7.1       ┆ 290       │\n",
       "│ 1993       ┆         ┆           ┆            ┆   ┆ nglish\"}, ┆          ┆           ┆           │\n",
       "│            ┆         ┆           ┆            ┆   ┆ {\"mi\",\"\"} ┆          ┆           ┆           │\n",
       "│            ┆         ┆           ┆            ┆   ┆ ]         ┆          ┆           ┆           │\n",
       "│ ever+after ┆ 9454    ┆ tt0120631 ┆ Ever       ┆ … ┆ [{\"en\",\"E ┆ Released ┆ 6.8       ┆ 408       │\n",
       "│ +a+cindere ┆         ┆           ┆ After: A   ┆   ┆ nglish\"}] ┆          ┆           ┆           │\n",
       "│ lla+story+ ┆         ┆           ┆ Cinderella ┆   ┆           ┆          ┆           ┆           │\n",
       "│ …          ┆         ┆           ┆ Story      ┆   ┆           ┆          ┆           ┆           │\n",
       "│ the+perks+ ┆ 84892   ┆ tt1659337 ┆ The Perks  ┆ … ┆ [{\"en\",\"E ┆ Released ┆ 7.7       ┆ 3056      │\n",
       "│ of+being+a ┆         ┆           ┆ of Being a ┆   ┆ nglish\"}] ┆          ┆           ┆           │\n",
       "│ +wallflowe ┆         ┆           ┆ Wallflowe… ┆   ┆           ┆          ┆           ┆           │\n",
       "│ …          ┆         ┆           ┆            ┆   ┆           ┆          ┆           ┆           │\n",
       "│ m*a*s*h+19 ┆ 651     ┆ tt0066026 ┆ M*A*S*H    ┆ … ┆ [{\"en\",\"E ┆ Released ┆ 6.9       ┆ 238       │\n",
       "│ 70         ┆         ┆           ┆            ┆   ┆ nglish\"}, ┆          ┆           ┆           │\n",
       "│            ┆         ┆           ┆            ┆   ┆ {\"fr\",\"Fr ┆          ┆           ┆           │\n",
       "│            ┆         ┆           ┆            ┆   ┆ an…       ┆          ┆           ┆           │\n",
       "└────────────┴─────────┴───────────┴────────────┴───┴───────────┴──────────┴───────────┴───────────┘"
      ]
     },
     "execution_count": 31,
     "metadata": {},
     "output_type": "execute_result"
    }
   ],
   "source": [
    "movies_df = pl.DataFrame(list(movies))\n",
    "movies_df"
   ]
  },
  {
   "cell_type": "code",
   "execution_count": null,
   "metadata": {},
   "outputs": [],
   "source": [
    "movies_df.write_json(\"../data/movies.json\")"
   ]
  },
  {
   "cell_type": "code",
   "execution_count": 33,
   "metadata": {},
   "outputs": [
    {
     "data": {
      "text/plain": [
       "['type', 'raw', 'movie_details', 'userid']"
      ]
     },
     "execution_count": 33,
     "metadata": {},
     "output_type": "execute_result"
    }
   ],
   "source": [
    "movie_play_events_df.columns"
   ]
  },
  {
   "cell_type": "code",
   "execution_count": null,
   "metadata": {},
   "outputs": [],
   "source": [
    "watched_df = movie_play_events_df[\"movie_details\", \"userid\"]\n",
    "watched_df = watched_df.unique()\n",
    "watched_df = watched_df.with_columns(\n",
    "    movie_id=watched_df[\"movie_details\"].map_elements(lambda s: s[\"id\"], return_dtype=str)\n",
    ")\n",
    "watched_df = watched_df.drop(\"movie_details\")\n",
    "watched_df.write_json(\"../data/watched.json\")"
   ]
  }
 ],
 "metadata": {
  "kernelspec": {
   "display_name": ".venv",
   "language": "python",
   "name": "python3"
  },
  "language_info": {
   "codemirror_mode": {
    "name": "ipython",
    "version": 3
   },
   "file_extension": ".py",
   "mimetype": "text/x-python",
   "name": "python",
   "nbconvert_exporter": "python",
   "pygments_lexer": "ipython3",
   "version": "3.10.16"
  }
 },
 "nbformat": 4,
 "nbformat_minor": 2
}
