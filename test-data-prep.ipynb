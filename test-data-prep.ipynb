{
 "cells": [
  {
   "cell_type": "code",
   "execution_count": 2,
   "metadata": {},
   "outputs": [
    {
     "name": "stdout",
     "output_type": "stream",
     "text": [
      "Movie Watch Data Sample: [{'type': 'movie_play', 'raw': '2025-01-01T23:40:43,102833,GET /data/m/the+thin+red+line+1998/0.mpg', 'movie_details': {'id': 'the+thin+red+line+1998', 'tmdb_id': 8741, 'imdb_id': 'tt0120863', 'title': 'The Thin Red Line', 'original_title': 'The Thin Red Line', 'adult': 'False', 'belongs_to_collection': {}, 'budget': '52000000', 'genres': [{'id': 18, 'name': 'Drama'}, {'id': 36, 'name': 'History'}, {'id': 10752, 'name': 'War'}], 'homepage': 'null', 'original_language': 'en', 'overview': 'Based on the graphic novel by James Jones, The Thin Red Line tells the story of a group of men, an Army Rifle company called C-for-Charlie, who change, suffer, and ultimately make essential discoveries about themselves during the fierce World War II battle of Guadalcanal. It follows their journey, from the surprise of an unopposed landing, through the bloody and exhausting battles that follow, to the ultimate departure of those who survived. A powerful frontline cast - including Sean Penn, Nick Nolte, Woody Harrelson and George Clooney - explodes into action in this hauntingly realistic view of military and moral chaos in the Pacific during World War II.', 'popularity': '9.783966', 'poster_path': '/jGDK6eM6vb8VEUmR0ZoaghcCG8f.jpg', 'production_companies': [{'name': 'Fox 2000 Pictures', 'id': 711}, {'name': 'Phoenix Pictures', 'id': 11317}, {'name': 'Geisler-Roberdeau', 'id': 23660}], 'production_countries': [{'iso_3166_1': 'CA', 'name': 'Canada'}, {'iso_3166_1': 'US', 'name': 'United States of America'}], 'release_date': '1998-12-25', 'revenue': '98126565', 'runtime': 170, 'spoken_languages': [{'iso_639_1': 'en', 'name': 'English'}, {'iso_639_1': 'ru', 'name': 'Pусский'}], 'status': 'Released', 'vote_average': '7.2', 'vote_count': '793'}, 'userid': '102833'}, {'type': 'movie_play', 'raw': '2025-01-01T23:42:47,102833,GET /data/m/the+thin+red+line+1998/2.mpg', 'movie_details': {'id': 'the+thin+red+line+1998', 'tmdb_id': 8741, 'imdb_id': 'tt0120863', 'title': 'The Thin Red Line', 'original_title': 'The Thin Red Line', 'adult': 'False', 'belongs_to_collection': {}, 'budget': '52000000', 'genres': [{'id': 18, 'name': 'Drama'}, {'id': 36, 'name': 'History'}, {'id': 10752, 'name': 'War'}], 'homepage': 'null', 'original_language': 'en', 'overview': 'Based on the graphic novel by James Jones, The Thin Red Line tells the story of a group of men, an Army Rifle company called C-for-Charlie, who change, suffer, and ultimately make essential discoveries about themselves during the fierce World War II battle of Guadalcanal. It follows their journey, from the surprise of an unopposed landing, through the bloody and exhausting battles that follow, to the ultimate departure of those who survived. A powerful frontline cast - including Sean Penn, Nick Nolte, Woody Harrelson and George Clooney - explodes into action in this hauntingly realistic view of military and moral chaos in the Pacific during World War II.', 'popularity': '9.783966', 'poster_path': '/jGDK6eM6vb8VEUmR0ZoaghcCG8f.jpg', 'production_companies': [{'name': 'Fox 2000 Pictures', 'id': 711}, {'name': 'Phoenix Pictures', 'id': 11317}, {'name': 'Geisler-Roberdeau', 'id': 23660}], 'production_countries': [{'iso_3166_1': 'CA', 'name': 'Canada'}, {'iso_3166_1': 'US', 'name': 'United States of America'}], 'release_date': '1998-12-25', 'revenue': '98126565', 'runtime': 170, 'spoken_languages': [{'iso_639_1': 'en', 'name': 'English'}, {'iso_639_1': 'ru', 'name': 'Pусский'}], 'status': 'Released', 'vote_average': '7.2', 'vote_count': '793'}, 'userid': '102833'}]\n",
      "Ratings Data Sample: [{'type': 'rating', 'raw': '2025-01-03T00:09:39,61139,GET /rate/natural+born+killers+1994=3', 'user_details': {'user_id': 61139, 'age': 26, 'occupation': 'college/grad student', 'gender': 'M'}, 'movieid': 'natural+born+killers+1994', 'rating': '3'}, {'type': 'rating', 'raw': '2025-01-04T05:47:31,11866,GET /rate/terminator+2+judgment+day+1991=4', 'user_details': {'user_id': 11866, 'age': 28, 'occupation': 'executive/managerial', 'gender': 'M'}, 'movieid': 'terminator+2+judgment+day+1991', 'rating': '4'}]\n"
     ]
    }
   ],
   "source": [
    "import json \n",
    "import os \n",
    "\n",
    "#repo_root = os.path.dirname(os.path.dirname(os.path.abspath(__file__)))\n",
    "repo_root = os.path.abspath(\"..\")\n",
    "movie_watch_path = os.path.join(repo_root, 'processed_logs.json')\n",
    "ratings_path = os.path.join(repo_root, 'rating_events.json')\n",
    "\n",
    "# load movie play events\n",
    "with open(movie_watch_path, 'r') as f:\n",
    "    movie_watch_data = json.load(f)\n",
    "\n",
    "# load ratings data \n",
    "with open(ratings_path, 'r') as f:\n",
    "    ratings_data = json.load(f)\n",
    "\n",
    "# Print the first two records of each dataset\n",
    "print(\"Movie Watch Data Sample:\", movie_watch_data[:2])  # Show first two records\n",
    "print(\"Ratings Data Sample:\", ratings_data[:2])"
   ]
  },
  {
   "cell_type": "code",
   "execution_count": 3,
   "metadata": {},
   "outputs": [
    {
     "name": "stdout",
     "output_type": "stream",
     "text": [
      "102833\n"
     ]
    }
   ],
   "source": [
    "print(movie_watch_data[0]['userid'])"
   ]
  },
  {
   "cell_type": "markdown",
   "metadata": {},
   "source": [
    "### Movie Watch History"
   ]
  },
  {
   "cell_type": "code",
   "execution_count": 4,
   "metadata": {},
   "outputs": [
    {
     "name": "stdout",
     "output_type": "stream",
     "text": [
      "dict_keys(['type', 'raw', 'movie_details', 'userid'])\n"
     ]
    }
   ],
   "source": [
    "print(movie_watch_data[0].keys())"
   ]
  },
  {
   "cell_type": "code",
   "execution_count": 5,
   "metadata": {},
   "outputs": [],
   "source": [
    "import pandas as pd \n",
    "\n",
    "watch_history = [\n",
    "    {\n",
    "        \"user_id\": event[\"userid\"] if \"userid\" in event else None,\n",
    "        \"movie_id\": event[\"movie_details\"][\"id\"] if \"movie_details\" in event else -1,\n",
    "        \"timestamp\": event[\"raw\"].split(\",\")[0],\n",
    "    }\n",
    "    for event in movie_watch_data\n",
    "]\n",
    "\n",
    "watch_history_df = pd.DataFrame(watch_history)\n",
    "\n",
    "cf_watch_history = watch_history_df.dropna(subset=[\"user_id\"])\n",
    "\n",
    "cb_watch_history = watch_history_df.fillna({\"userid\": \"unknown_user\"})\n",
    "\n",
    "watch_histroy_csv = os.path.join(repo_root, 'test-data/movie_watch_history.csv')\n",
    "\n",
    "# Save both versions\n",
    "cf_watch_history.to_csv(os.path.join(repo_root, \"test-data/cf_movie_watch_history.csv\"), index=False)\n",
    "cb_watch_history.to_csv(os.path.join(repo_root, \"test-data/cb_movie_watch_history.csv\"), index=False)\n"
   ]
  },
  {
   "cell_type": "markdown",
   "metadata": {},
   "source": [
    "### Collaborative Filtering(CF)"
   ]
  },
  {
   "cell_type": "code",
   "execution_count": 6,
   "metadata": {},
   "outputs": [
    {
     "name": "stdout",
     "output_type": "stream",
     "text": [
      "⚠️ Retry 1: Adjusting split to maintain test size...\n",
      "⚠️ Retry 2: Adjusting split to maintain test size...\n",
      "⚠️ Retry 3: Adjusting split to maintain test size...\n",
      "⚠️ Retry 4: Adjusting split to maintain test size...\n",
      "⚠️ Retry 5: Adjusting split to maintain test size...\n",
      "✅ CF Train Data: 163 rows\n",
      "✅ CF Test Data: 8 rows\n",
      "✅ CF Train Data saved to c:\\Users\\maitr\\OneDrive\\Desktop\\cmu-2025\\ai-engg\\m1\\Random-Forrest-Gump\\test-data/cf_train_data.csv\n",
      "✅ CF Test Data saved to c:\\Users\\maitr\\OneDrive\\Desktop\\cmu-2025\\ai-engg\\m1\\Random-Forrest-Gump\\test-data/cf_test_data.csv\n"
     ]
    }
   ],
   "source": [
    "import json\n",
    "import pandas as pd\n",
    "import os\n",
    "\n",
    "# Load rating events data\n",
    "repo_root = os.path.abspath(\"..\")\n",
    "ratings_path = os.path.join(repo_root, 'rating_events.json')\n",
    "\n",
    "with open(ratings_path, 'r') as f:\n",
    "    ratings_data = json.load(f)\n",
    "\n",
    "# Convert to DataFrame and ensure unique user-movie pairs\n",
    "cf_data = pd.DataFrame([\n",
    "    {\n",
    "        \"user_id\": event[\"user_details\"][\"user_id\"],\n",
    "        \"movie_id\": event[\"movieid\"],\n",
    "        \"rating\": int(event[\"rating\"])  # Convert to integer\n",
    "    }\n",
    "    for event in ratings_data\n",
    "]).drop_duplicates(subset=[\"user_id\", \"movie_id\"])\n",
    "\n",
    "# Get exact 80/20 split\n",
    "total_rows = len(cf_data)\n",
    "test_size = int(total_rows * 0.2)\n",
    "\n",
    "cf_train_df = cf_data.sample(frac=0.8, random_state=42)\n",
    "cf_test_df = cf_data.drop(cf_train_df.index)\n",
    "\n",
    "# Ensure users and movies in test also exist in train (avoid cold-start issues)\n",
    "cf_test_df = cf_test_df[\n",
    "    (cf_test_df[\"user_id\"].isin(cf_train_df[\"user_id\"])) &\n",
    "    (cf_test_df[\"movie_id\"].isin(cf_train_df[\"movie_id\"]))\n",
    "]\n",
    "\n",
    "# If test set is too small, retry by adjusting the split\n",
    "max_retries = 5\n",
    "retry_count = 0\n",
    "\n",
    "while len(cf_test_df) < test_size * 0.8 and retry_count < max_retries:\n",
    "    retry_count += 1\n",
    "    print(f\"⚠️ Retry {retry_count}: Adjusting split to maintain test size...\")\n",
    "    cf_train_df = cf_data.sample(frac=0.75, random_state=42)\n",
    "    cf_test_df = cf_data.drop(cf_train_df.index)\n",
    "    cf_test_df = cf_test_df[\n",
    "        (cf_test_df[\"user_id\"].isin(cf_train_df[\"user_id\"])) &\n",
    "        (cf_test_df[\"movie_id\"].isin(cf_train_df[\"movie_id\"]))\n",
    "    ]\n",
    "\n",
    "# Save train/test datasets\n",
    "cf_train_csv = os.path.join(repo_root, \"test-data/cf_train_data.csv\")\n",
    "cf_test_csv = os.path.join(repo_root, \"test-data/cf_test_data.csv\")\n",
    "\n",
    "cf_train_df.to_csv(cf_train_csv, index=False)\n",
    "cf_test_df.to_csv(cf_test_csv, index=False)\n",
    "\n",
    "print(f\"✅ CF Train Data: {len(cf_train_df)} rows\")\n",
    "print(f\"✅ CF Test Data: {len(cf_test_df)} rows\")\n",
    "print(f\"✅ CF Train Data saved to {cf_train_csv}\")\n",
    "print(f\"✅ CF Test Data saved to {cf_test_csv}\")\n"
   ]
  },
  {
   "cell_type": "code",
   "execution_count": 25,
   "metadata": {},
   "outputs": [
    {
     "name": "stdout",
     "output_type": "stream",
     "text": [
      "217\n"
     ]
    }
   ],
   "source": [
    "print(len(cf_data))"
   ]
  },
  {
   "cell_type": "markdown",
   "metadata": {},
   "source": [
    "### Content-Based Filtering(CB)"
   ]
  },
  {
   "cell_type": "code",
   "execution_count": 21,
   "metadata": {},
   "outputs": [
    {
     "name": "stdout",
     "output_type": "stream",
     "text": [
      "CB Train Data: 4458748 rows\n",
      "CB Test Data: 1114686 rows\n",
      "CB Train Data saved to c:\\Users\\maitr\\OneDrive\\Desktop\\cmu-2025\\ai-engg\\m1\\Random-Forrest-Gump\\test-data/cb_train_data.csv\n",
      "CB Test Data saved to c:\\Users\\maitr\\OneDrive\\Desktop\\cmu-2025\\ai-engg\\m1\\Random-Forrest-Gump\\test-data/cb_test_data.csv\n"
     ]
    }
   ],
   "source": [
    "import json\n",
    "import pandas as pd\n",
    "import os\n",
    "\n",
    "repo_root = os.path.abspath(\"..\")\n",
    "\n",
    "# Load movie watch history\n",
    "# watch_history_path = os.path.join(repo_root, \"test-data/movie_watch_history.csv\")\n",
    "# watch_history_df = pd.read_csv(watch_history_path)\n",
    "\n",
    "# Load movie details from processed logs\n",
    "logs_path = os.path.join(repo_root, 'processed_logs.json')\n",
    "\n",
    "with open(logs_path, 'r') as f:\n",
    "    logs_data = json.load(f)\n",
    "\n",
    "# Normalize JSON data (if needed)\n",
    "logs_df = pd.json_normalize(logs_data)  # Ensures movie_details is properly extracted\n",
    "\n",
    "# Merge movie details\n",
    "cb_data = watch_history_df.merge(\n",
    "    logs_df[['movie_details.id', 'movie_details.genres', 'movie_details.popularity']],\n",
    "    left_on=\"movie_id\",\n",
    "    right_on=\"movie_details.id\",\n",
    "    how=\"left\"\n",
    ")\n",
    "\n",
    "# Perform an exact 80/20 split\n",
    "total_rows = len(cb_data)\n",
    "test_size = int(total_rows * 0.2)  # Ensure exactly 20% test\n",
    "train_size = total_rows - test_size  # Ensure 80% train\n",
    "\n",
    "cb_train_df = cb_data.sample(n=train_size, random_state=42)  # Sample exact 80%\n",
    "cb_test_df = cb_data.drop(cb_train_df.index)  # Remaining 20%\n",
    "\n",
    "# Ensure test users & movies exist in train set (avoid leakage)\n",
    "cb_test_df = cb_test_df[\n",
    "    (cb_test_df[\"user_id\"].isin(cb_train_df[\"user_id\"])) &\n",
    "    (cb_test_df[\"movie_id\"].isin(cb_train_df[\"movie_id\"]))\n",
    "]\n",
    "\n",
    "# Save train/test datasets\n",
    "cb_train_csv = os.path.join(repo_root, \"test-data/cb_train_data.csv\")\n",
    "cb_test_csv = os.path.join(repo_root, \"test-data/cb_test_data.csv\")\n",
    "\n",
    "cb_train_df.to_csv(cb_train_csv, index=False)\n",
    "cb_test_df.to_csv(cb_test_csv, index=False)\n",
    "\n",
    "print(f\"CB Train Data: {len(cb_train_df)} rows\")\n",
    "print(f\"CB Test Data: {len(cb_test_df)} rows\")\n",
    "print(f\"CB Train Data saved to {cb_train_csv}\")\n",
    "print(f\"CB Test Data saved to {cb_test_csv}\")\n",
    "\n"
   ]
  },
  {
   "cell_type": "code",
   "execution_count": null,
   "metadata": {},
   "outputs": [],
   "source": []
  }
 ],
 "metadata": {
  "kernelspec": {
   "display_name": "base",
   "language": "python",
   "name": "python3"
  },
  "language_info": {
   "codemirror_mode": {
    "name": "ipython",
    "version": 3
   },
   "file_extension": ".py",
   "mimetype": "text/x-python",
   "name": "python",
   "nbconvert_exporter": "python",
   "pygments_lexer": "ipython3",
   "version": "3.12.7"
  }
 },
 "nbformat": 4,
 "nbformat_minor": 2
}
