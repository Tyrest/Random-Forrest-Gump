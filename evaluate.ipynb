{
 "cells": [
  {
   "cell_type": "code",
   "execution_count": 1,
   "metadata": {},
   "outputs": [],
   "source": [
    "from collaborative_filtering import CollaborativeFiltering\n",
    "from content_filtering import ContentFiltering\n",
    "from utils import load_ratings\n",
    "\n",
    "RATING_EVENTS_PATH = 'data/rating_events.json'\n",
    "MOVIES_PATH = 'data/movies.json'\n",
    "WATCHED_PATH = 'data/watched.json'"
   ]
  },
  {
   "cell_type": "code",
   "execution_count": 2,
   "metadata": {},
   "outputs": [],
   "source": [
    "trainset, testset = load_ratings(RATING_EVENTS_PATH)"
   ]
  },
  {
   "cell_type": "code",
   "execution_count": 3,
   "metadata": {},
   "outputs": [
    {
     "name": "stdout",
     "output_type": "stream",
     "text": [
      "Computing the cosine similarity matrix...\n",
      "Done computing similarity matrix.\n",
      "--------------------------------------------------\n",
      "Collaborative Filtering\n",
      "--------------------------------------------------\n",
      "RMSE: 1.1114\n",
      "MAE: 0.8756\n",
      "--------------------------------------------------\n",
      "--------------------------------------------------\n",
      "Content Filtering\n",
      "--------------------------------------------------\n",
      "RMSE: 1.7159\n",
      "MAE: 1.4101\n",
      "--------------------------------------------------\n"
     ]
    }
   ],
   "source": [
    "collaborative_filtering_model = CollaborativeFiltering(MOVIES_PATH, WATCHED_PATH)\n",
    "collaborative_filtering_model.train(trainset)\n",
    "rmse, mae = collaborative_filtering_model.evaluate(testset)\n",
    "\n",
    "print(\"-\" * 50)\n",
    "print(\"Collaborative Filtering\")\n",
    "print(\"-\" * 50)\n",
    "print(\"RMSE: {:.4f}\".format(rmse))\n",
    "print(\"MAE: {:.4f}\".format(mae))\n",
    "print(\"-\" * 50)\n",
    "\n",
    "content_filtering_model = ContentFiltering(MOVIES_PATH, WATCHED_PATH)\n",
    "content_filtering_model.train(trainset)\n",
    "rmse, mae = content_filtering_model.evaluate(testset)\n",
    "\n",
    "print(\"-\" * 50)\n",
    "print(\"Content Filtering\")\n",
    "print(\"-\" * 50)\n",
    "print(\"RMSE: {:.4f}\".format(rmse))\n",
    "print(\"MAE: {:.4f}\".format(mae))\n",
    "print(\"-\" * 50)"
   ]
  },
  {
   "cell_type": "markdown",
   "metadata": {},
   "source": [
    "#### Train Accuracy"
   ]
  },
  {
   "cell_type": "code",
   "execution_count": 4,
   "metadata": {},
   "outputs": [
    {
     "name": "stdout",
     "output_type": "stream",
     "text": [
      "--------------------------------------------------\n",
      "Collaborative Filtering\n",
      "--------------------------------------------------\n",
      "RMSE: 0.6114\n",
      "MAE: 0.3963\n",
      "--------------------------------------------------\n",
      "--------------------------------------------------\n",
      "Content Filtering\n",
      "--------------------------------------------------\n",
      "RMSE: 1.7257\n",
      "MAE: 1.4429\n",
      "--------------------------------------------------\n"
     ]
    }
   ],
   "source": [
    "rmse, mae = collaborative_filtering_model.evaluate(trainset.build_testset())\n",
    "\n",
    "print(\"-\" * 50)\n",
    "print(\"Collaborative Filtering\")\n",
    "print(\"-\" * 50)\n",
    "print(\"RMSE: {:.4f}\".format(rmse))\n",
    "print(\"MAE: {:.4f}\".format(mae))\n",
    "print(\"-\" * 50)\n",
    "\n",
    "rmse, mae = content_filtering_model.evaluate(trainset.build_testset())\n",
    "\n",
    "print(\"-\" * 50)\n",
    "print(\"Content Filtering\")\n",
    "print(\"-\" * 50)\n",
    "print(\"RMSE: {:.4f}\".format(rmse))\n",
    "print(\"MAE: {:.4f}\".format(mae))\n",
    "print(\"-\" * 50)"
   ]
  },
  {
   "cell_type": "markdown",
   "metadata": {},
   "source": [
    "### Test Save and Load"
   ]
  },
  {
   "cell_type": "code",
   "execution_count": 5,
   "metadata": {},
   "outputs": [
    {
     "name": "stdout",
     "output_type": "stream",
     "text": [
      "Loaded Collaborative Filtering Model RMSE: 1.1114, MAE: 0.8756\n"
     ]
    }
   ],
   "source": [
    "collaborative_filtering_model.save('models/collaborative_filtering.pkl')\n",
    "loaded_collaborative_filtering_model = CollaborativeFiltering.load('models/collaborative_filtering.pkl')\n",
    "rmse, mae = loaded_collaborative_filtering_model.evaluate(testset)\n",
    "print(f\"Loaded Collaborative Filtering Model RMSE: {rmse:.4f}, MAE: {mae:.4f}\")"
   ]
  },
  {
   "cell_type": "code",
   "execution_count": 6,
   "metadata": {},
   "outputs": [
    {
     "name": "stdout",
     "output_type": "stream",
     "text": [
      "Loaded Content Filtering Model RMSE: 1.7159, MAE: 1.4101\n"
     ]
    }
   ],
   "source": [
    "content_filtering_model.save('models/content_filtering.pkl')\n",
    "loaded_content_filtering_model = ContentFiltering.load('models/content_filtering.pkl')\n",
    "rmse, mae = loaded_content_filtering_model.evaluate(testset)\n",
    "print(f\"Loaded Content Filtering Model RMSE: {rmse:.4f}, MAE: {mae:.4f}\")"
   ]
  }
 ],
 "metadata": {
  "kernelspec": {
   "display_name": ".venv",
   "language": "python",
   "name": "python3"
  },
  "language_info": {
   "codemirror_mode": {
    "name": "ipython",
    "version": 3
   },
   "file_extension": ".py",
   "mimetype": "text/x-python",
   "name": "python",
   "nbconvert_exporter": "python",
   "pygments_lexer": "ipython3",
   "version": "3.10.16"
  }
 },
 "nbformat": 4,
 "nbformat_minor": 2
}
