{
 "cells": [
  {
   "cell_type": "markdown",
   "metadata": {},
   "source": [
    "### Load and Unzip the Data"
   ]
  },
  {
   "cell_type": "code",
   "execution_count": 1,
   "metadata": {},
   "outputs": [
    {
     "name": "stdout",
     "output_type": "stream",
     "text": [
      "Title Basics Sample:\n",
      "      tconst titleType            primaryTitle           originalTitle  \\\n",
      "0  tt0000001     short              Carmencita              Carmencita   \n",
      "1  tt0000002     short  Le clown et ses chiens  Le clown et ses chiens   \n",
      "2  tt0000003     short            Poor Pierrot          Pauvre Pierrot   \n",
      "3  tt0000004     short             Un bon bock             Un bon bock   \n",
      "4  tt0000005     short        Blacksmith Scene        Blacksmith Scene   \n",
      "\n",
      "   isAdult  startYear  endYear runtimeMinutes                    genres  \n",
      "0      0.0     1894.0      NaN              1         Documentary,Short  \n",
      "1      0.0     1892.0      NaN              5           Animation,Short  \n",
      "2      0.0     1892.0      NaN              5  Animation,Comedy,Romance  \n",
      "3      0.0     1892.0      NaN             12           Animation,Short  \n",
      "4      0.0     1893.0      NaN              1                     Short  \n",
      "Title Ratings Sample:\n",
      "      tconst  averageRating  numVotes\n",
      "0  tt0000001            5.7      2131\n",
      "1  tt0000002            5.6       289\n",
      "2  tt0000003            6.4      2167\n",
      "3  tt0000004            5.3       184\n",
      "4  tt0000005            6.2      2894\n",
      "Title Crew Sample:\n",
      "      tconst  directors writers\n",
      "0  tt0000001  nm0005690     NaN\n",
      "1  tt0000002  nm0721526     NaN\n",
      "2  tt0000003  nm0721526     NaN\n",
      "3  tt0000004  nm0721526     NaN\n",
      "4  tt0000005  nm0005690     NaN\n",
      "Title Principals Sample:\n",
      "      tconst  ordering     nconst         category                      job  \\\n",
      "0  tt0000001         1  nm1588970             self                      NaN   \n",
      "1  tt0000001         2  nm0005690         director                      NaN   \n",
      "2  tt0000001         3  nm0005690         producer                 producer   \n",
      "3  tt0000001         4  nm0374658  cinematographer  director of photography   \n",
      "4  tt0000002         1  nm0721526         director                      NaN   \n",
      "\n",
      "  characters  \n",
      "0   [\"Self\"]  \n",
      "1        NaN  \n",
      "2        NaN  \n",
      "3        NaN  \n",
      "4        NaN  \n"
     ]
    }
   ],
   "source": [
    "import pandas as pd\n",
    "\n",
    "# Define file paths (update these if your files are in a different location)\n",
    "title_basics_path = \"title.basics.tsv.gz\"\n",
    "title_ratings_path = \"title.ratings.tsv.gz\"\n",
    "title_crew_path = \"title.crew.tsv.gz\"\n",
    "title_principals_path = \"title.principals.tsv.gz\"\n",
    "\n",
    "# Load data\n",
    "title_basics_df = pd.read_csv(title_basics_path, sep='\\t', na_values=\"\\\\N\", compression='gzip', low_memory=False)\n",
    "title_ratings_df = pd.read_csv(title_ratings_path, sep='\\t', na_values=\"\\\\N\", compression='gzip', low_memory=False)\n",
    "title_crew_df = pd.read_csv(title_crew_path, sep='\\t', na_values=\"\\\\N\", compression='gzip', low_memory=False)\n",
    "title_principals_df = pd.read_csv(title_principals_path, sep='\\t', na_values=\"\\\\N\", compression='gzip', low_memory=False)\n",
    "\n",
    "# Show sample data\n",
    "print(\"Title Basics Sample:\")\n",
    "print(title_basics_df.head())\n",
    "\n",
    "print(\"Title Ratings Sample:\")\n",
    "print(title_ratings_df.head())\n",
    "\n",
    "print(\"Title Crew Sample:\")\n",
    "print(title_crew_df.head())\n",
    "\n",
    "print(\"Title Principals Sample:\")\n",
    "print(title_principals_df.head())\n"
   ]
  },
  {
   "cell_type": "code",
   "execution_count": 2,
   "metadata": {},
   "outputs": [
    {
     "name": "stdout",
     "output_type": "stream",
     "text": [
      "Filtered Movies Sample:\n",
      "      tconst titleType                   primaryTitle  \\\n",
      "0  tt0000009     movie                     Miss Jerry   \n",
      "1  tt0000147     movie  The Corbett-Fitzsimmons Fight   \n",
      "2  tt0000574     movie    The Story of the Kelly Gang   \n",
      "3  tt0001892     movie                 Den sorte drøm   \n",
      "4  tt0001964     movie                  The Traitress   \n",
      "\n",
      "                   originalTitle  isAdult  startYear  endYear  runtimeMinutes  \\\n",
      "0                     Miss Jerry      0.0     1894.0      NaN            45.0   \n",
      "1  The Corbett-Fitzsimmons Fight      0.0     1897.0      NaN           100.0   \n",
      "2    The Story of the Kelly Gang      0.0     1906.0      NaN            70.0   \n",
      "3                 Den sorte drøm      0.0     1911.0      NaN            53.0   \n",
      "4                 Die Verräterin      0.0     1911.0      NaN            48.0   \n",
      "\n",
      "                       genres  averageRating  numVotes  \n",
      "0                     Romance            5.3       220  \n",
      "1      Documentary,News,Sport            5.3       549  \n",
      "2  Action,Adventure,Biography            6.0       971  \n",
      "3                       Drama            5.8       278  \n",
      "4                       Drama            5.9       110  \n",
      "\n",
      "Total Movies After Filtering: 135086\n"
     ]
    }
   ],
   "source": [
    "# Step 1: Keep only movies (ignore TV shows, shorts, etc.)\n",
    "movies_df = title_basics_df[title_basics_df[\"titleType\"] == \"movie\"]\n",
    "\n",
    "# Step 2: Remove movies without a release year\n",
    "movies_df = movies_df.dropna(subset=[\"startYear\"])\n",
    "\n",
    "# Step 3: Convert startYear and runtimeMinutes to numeric\n",
    "movies_df[\"startYear\"] = pd.to_numeric(movies_df[\"startYear\"], errors=\"coerce\")\n",
    "movies_df[\"runtimeMinutes\"] = pd.to_numeric(movies_df[\"runtimeMinutes\"], errors=\"coerce\")\n",
    "\n",
    "# Step 4: Filter ratings to keep movies with at least 100 votes\n",
    "title_ratings_df[\"numVotes\"] = pd.to_numeric(title_ratings_df[\"numVotes\"], errors=\"coerce\")\n",
    "filtered_ratings_df = title_ratings_df[title_ratings_df[\"numVotes\"] >= 100]\n",
    "\n",
    "# Step 5: Merge movies and ratings\n",
    "merged_df = pd.merge(movies_df, filtered_ratings_df, on=\"tconst\", how=\"inner\")\n",
    "\n",
    "# Show sample data\n",
    "print(\"Filtered Movies Sample:\")\n",
    "print(merged_df.head())\n",
    "print(f\"\\nTotal Movies After Filtering: {len(merged_df)}\")\n"
   ]
  },
  {
   "cell_type": "code",
   "execution_count": 3,
   "metadata": {},
   "outputs": [
    {
     "name": "stdout",
     "output_type": "stream",
     "text": [
      "Merged Data Sample:\n",
      "      tconst titleType                   primaryTitle  \\\n",
      "0  tt0000009     movie                     Miss Jerry   \n",
      "1  tt0000147     movie  The Corbett-Fitzsimmons Fight   \n",
      "2  tt0000574     movie    The Story of the Kelly Gang   \n",
      "3  tt0001892     movie                 Den sorte drøm   \n",
      "4  tt0001964     movie                  The Traitress   \n",
      "\n",
      "                   originalTitle  isAdult  startYear  endYear  runtimeMinutes  \\\n",
      "0                     Miss Jerry      0.0     1894.0      NaN            45.0   \n",
      "1  The Corbett-Fitzsimmons Fight      0.0     1897.0      NaN           100.0   \n",
      "2    The Story of the Kelly Gang      0.0     1906.0      NaN            70.0   \n",
      "3                 Den sorte drøm      0.0     1911.0      NaN            53.0   \n",
      "4                 Die Verräterin      0.0     1911.0      NaN            48.0   \n",
      "\n",
      "                       genres  averageRating  numVotes    directors  \\\n",
      "0                     Romance            5.3       220  [nm0085156]   \n",
      "1      Documentary,News,Sport            5.3       549  [nm0714557]   \n",
      "2  Action,Adventure,Biography            6.0       971  [nm0846879]   \n",
      "3                       Drama            5.8       278  [nm0300487]   \n",
      "4                       Drama            5.9       110  [nm0300487]   \n",
      "\n",
      "                  writers                         top_actors  \n",
      "0             [nm0085156]  [nm0063086, nm0183823, nm1309758]  \n",
      "1                      []                                 []  \n",
      "2             [nm0846879]  [nm0846887, nm0846894, nm1431224]  \n",
      "3  [nm0300487, nm2131092]  [nm0003425, nm0699637, nm0375839]  \n",
      "4             [nm0954390]  [nm0003425, nm0643138, nm0883519]  \n",
      "\n",
      "Total Movies After Merging Crew & Actors: 135086\n"
     ]
    }
   ],
   "source": [
    "# Step 1: Merge director & writer info\n",
    "title_crew_df[\"directors\"] = title_crew_df[\"directors\"].replace(\"\\\\N\", \"\").str.split(\",\")\n",
    "title_crew_df[\"writers\"] = title_crew_df[\"writers\"].replace(\"\\\\N\", \"\").str.split(\",\")\n",
    "\n",
    "merged_df = pd.merge(merged_df, title_crew_df, on=\"tconst\", how=\"left\")\n",
    "\n",
    "# Step 2: Extract top actors (principals)\n",
    "top_actors_df = title_principals_df[\n",
    "    (title_principals_df[\"category\"].isin([\"actor\", \"actress\"])) & (title_principals_df[\"ordering\"].astype(int) <= 3)\n",
    "]\n",
    "\n",
    "# Group actors by movie and join names\n",
    "top_actors_df = top_actors_df.groupby(\"tconst\")[\"nconst\"].apply(lambda x: list(x)).reset_index()\n",
    "\n",
    "# Merge actors into the main dataset\n",
    "merged_df = pd.merge(merged_df, top_actors_df, on=\"tconst\", how=\"left\")\n",
    "\n",
    "# Step 3: Replace NaN with empty lists\n",
    "merged_df[\"directors\"] = merged_df[\"directors\"].apply(lambda x: x if isinstance(x, list) else [])\n",
    "merged_df[\"writers\"] = merged_df[\"writers\"].apply(lambda x: x if isinstance(x, list) else [])\n",
    "merged_df[\"nconst\"] = merged_df[\"nconst\"].apply(lambda x: x if isinstance(x, list) else [])\n",
    "\n",
    "# Rename the actors column for clarity\n",
    "merged_df = merged_df.rename(columns={\"nconst\": \"top_actors\"})\n",
    "\n",
    "# Show sample data\n",
    "print(\"Merged Data Sample:\")\n",
    "print(merged_df.head())\n",
    "print(f\"\\nTotal Movies After Merging Crew & Actors: {len(merged_df)}\")\n"
   ]
  },
  {
   "cell_type": "code",
   "execution_count": 8,
   "metadata": {},
   "outputs": [
    {
     "name": "stdout",
     "output_type": "stream",
     "text": [
      "IMDb Train Data saved!\n",
      "IMDb Test Data saved!\n"
     ]
    }
   ],
   "source": [
    "from sklearn.model_selection import train_test_split\n",
    "import os\n",
    "\n",
    "repo_root = os.path.abspath(\"..\")\n",
    "\n",
    "# Ensure only necessary columns for content-based filtering are retained\n",
    "selected_columns = [\"tconst\", \"primaryTitle\", \"originalTitle\", \"startYear\", \"runtimeMinutes\", \"genres\", \"averageRating\", \"numVotes\"]\n",
    "\n",
    "filtered_df = merged_df[selected_columns].dropna()  # Drop rows with missing values\n",
    "\n",
    "# Perform an 80/20 train-test split\n",
    "train_df, test_df = train_test_split(filtered_df, test_size=0.2, random_state=42)\n",
    "\n",
    "# Save the train and test sets\n",
    "\n",
    "train_csv_path = os.path.join(repo_root, \"imdb-data/imdb_train_data.csv\")\n",
    "test_csv_path = os.path.join(repo_root, \"imdb-data/imdb_test_data.csv\")\n",
    "\n",
    "train_df.to_csv(train_csv_path, index=False)\n",
    "test_df.to_csv(test_csv_path, index=False)\n",
    "\n",
    "print(f\"IMDb Train Data saved!\")\n",
    "print(f\"IMDb Test Data saved!\")\n",
    "\n"
   ]
  },
  {
   "cell_type": "code",
   "execution_count": null,
   "metadata": {},
   "outputs": [],
   "source": []
  }
 ],
 "metadata": {
  "kernelspec": {
   "display_name": "base",
   "language": "python",
   "name": "python3"
  },
  "language_info": {
   "codemirror_mode": {
    "name": "ipython",
    "version": 3
   },
   "file_extension": ".py",
   "mimetype": "text/x-python",
   "name": "python",
   "nbconvert_exporter": "python",
   "pygments_lexer": "ipython3",
   "version": "3.12.7"
  }
 },
 "nbformat": 4,
 "nbformat_minor": 2
}
